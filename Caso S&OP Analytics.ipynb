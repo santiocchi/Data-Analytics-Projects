{
 "cells": [
  {
   "cell_type": "markdown",
   "id": "bfeba00f",
   "metadata": {},
   "source": [
    "# Caso Práctico: Predicción de Demanda de Productos"
   ]
  },
  {
   "cell_type": "markdown",
   "id": "31d80058",
   "metadata": {},
   "source": [
    "### 1. Introducción\n",
    "\n",
    "Objetivo: Predecir la demanda semanal de productos para la semana 9, utilizando datos históricos de 8 semanas de ventas y devoluciones en México.\n",
    "\n",
    "Herramientas:\n",
    "\n",
    "    SQL para ETL y consultas.\n",
    "\n",
    "    Python (pandas, LightGBM, matplotlib, seaborn, graphviz) para modelado y visualización.\n",
    "\n",
    "\n",
    "#### Justificación del Algoritmo\n",
    "\n",
    "Se elige **LightGBM** debido a su excelente rendimiento en tareas de regresión con grandes volúmenes de datos y muchas variables categóricas. A continuación, se compara con otros modelos:\n",
    "\n",
    "- **Regresión Lineal**: No capta relaciones no lineales entre variables, muy limitada para datos de demanda con alta varianza y colinealidad. \n",
    "- **Random Forest**: Si bien maneja no linealidades, es más costoso computacionalmente que LightGBM y no escala tan eficientemente.\n",
    "- **ARIMA**: Está orientado a series temporales univariadas. Dado que se predice la demanda por múltiples combinaciones cliente-producto-agencia, ARIMA no es adecuado para esta granularidad.\n",
    "- **XGBoost**: Tiene un rendimiento competitivo, pero LightGBM suele ser más rápido en entrenamiento y ocupa menos memoria, lo cual es clave para datasets tan grandes como el provisto.\n",
    "\n",
    "Además, en el análisis exploratorio de la variable objetivo (Demanda_uni_equil), se construyó un boxplot que muestra una **fuerte asimetría hacia la derecha**, con muchos outliers altos. Esto indica que la distribución de la demanda está sesgada positivamente, y LightGBM maneja mejor este tipo de datos gracias a su capacidad para modelar distribuciones no normales sin requerir transformación explícita.\n",
    "\n",
    "\n",
    "Por todo lo anterior, LightGBM es la mejor alternativa para abordar este problema.\n"
   ]
  },
  {
   "cell_type": "markdown",
   "id": "ed89eb08",
   "metadata": {},
   "source": [
    "## 2. Configuración Inicial y Limpieza de Datos\n",
    "\n",
    "En esta sección se realizan las tareas fundamentales de preparación:\n",
    "- Importación de librerías esenciales (pandas, numpy, matplotlib, seaborn, LightGBM)\n",
    "- Carga de archivos CSV con datos de productos, clientes y agencias\n",
    "- Creación de tablas en memoria mediante SQLite para facilitar consultas complejas"
   ]
  },
  {
   "cell_type": "markdown",
   "id": "7316df12",
   "metadata": {},
   "source": [
    "#### 2.1. Importación de librerías"
   ]
  },
  {
   "cell_type": "code",
   "execution_count": 88,
   "id": "d7fe1f76",
   "metadata": {},
   "outputs": [],
   "source": [
    "import pandas as pd\n",
    "import numpy as np\n",
    "import matplotlib.pyplot as plt\n",
    "import matplotlib.ticker as ticker\n",
    "import seaborn as sns\n",
    "import lightgbm as lgb\n",
    "from sklearn.metrics import mean_squared_error, mean_absolute_error, r2_score\n",
    "from sklearn.model_selection import train_test_split\n",
    "from sklearn.preprocessing import LabelEncoder\n",
    "from sqlalchemy import create_engine\n",
    "import sqlite3\n",
    "import graphviz\n",
    "import os\n",
    "os.environ[\"LOKY_MAX_CPU_COUNT\"] = \"4\""
   ]
  },
  {
   "cell_type": "markdown",
   "id": "6b805c6f",
   "metadata": {},
   "source": [
    "#### 2.2. Carga de CSV y Creación de Tablas"
   ]
  },
  {
   "cell_type": "code",
   "execution_count": 3,
   "id": "1dc21bd9",
   "metadata": {
    "scrolled": true
   },
   "outputs": [
    {
     "data": {
      "text/plain": [
       "930500"
      ]
     },
     "execution_count": 3,
     "metadata": {},
     "output_type": "execute_result"
    }
   ],
   "source": [
    "candidate = pd.read_csv(\"../Data/dfcandidate.csv\")\n",
    "test = pd.read_csv(\"../Data/dftest.csv\")\n",
    "clientes = pd.read_csv(\"../Data/cliente_tabla.csv\").drop_duplicates('Cliente_ID')\n",
    "productos = pd.read_csv(\"../Data/Producto_tabla.csv\")\n",
    "agencias = pd.read_csv(\"../Data/estados.csv\", encoding='latin-1')\n",
    "agencias.columns = ['Agencia_ID', 'Town', 'State']  # Corregimos los nombres\n",
    "\n",
    "conn = sqlite3.connect(':memory:')\n",
    "\n",
    "candidate.to_sql(\"candidate\", conn, index=False)\n",
    "test.to_sql(\"test\", conn, index=False)\n",
    "agencias.to_sql(\"agencias\", conn, index=False)\n",
    "productos.to_sql(\"productos\", conn, index=False)\n",
    "clientes.to_sql(\"clientes\", conn, index=False)"
   ]
  },
  {
   "cell_type": "markdown",
   "id": "be2b0779",
   "metadata": {},
   "source": [
    "## 3. Análisis Exploratorio de Datos"
   ]
  },
  {
   "cell_type": "code",
   "execution_count": 4,
   "id": "533fdbc7",
   "metadata": {},
   "outputs": [
    {
     "name": "stdout",
     "output_type": "stream",
     "text": [
      "📌 Total de registros: 7,974,418\n"
     ]
    }
   ],
   "source": [
    "# Total de registros\n",
    "total_registros = len(candidate)\n",
    "print(f\"📌 Total de registros: {total_registros:,}\")"
   ]
  },
  {
   "cell_type": "markdown",
   "id": "3c1ab30f",
   "metadata": {},
   "source": [
    "#### 3.1 Análisis de Agencias\n",
    "Se examina la distribución y comportamiento de las 41 agencias en el dataset, identificando:\n",
    "- Estadísticas descriptivas de transacciones por agencia\n",
    "- Top 10 agencias por volumen de transacciones y demanda promedio\n",
    "- Visualización de la relación entre transacciones y demanda promedio\n",
    "- Outliers y patrones de comportamiento"
   ]
  },
  {
   "cell_type": "code",
   "execution_count": 34,
   "id": "86c3c740",
   "metadata": {
    "scrolled": true
   },
   "outputs": [
    {
     "data": {
      "text/html": [
       "<style type=\"text/css\">\n",
       "#T_cdd42_row0_col1, #T_cdd42_row0_col5, #T_cdd42_row1_col1, #T_cdd42_row1_col5, #T_cdd42_row2_col1, #T_cdd42_row2_col5 {\n",
       "  background-color: #f7fbff;\n",
       "  color: #000000;\n",
       "}\n",
       "#T_cdd42_row3_col1, #T_cdd42_row3_col5 {\n",
       "  background-color: #08306b;\n",
       "  color: #f1f1f1;\n",
       "}\n",
       "</style>\n",
       "<table id=\"T_cdd42\">\n",
       "  <thead>\n",
       "    <tr>\n",
       "      <th class=\"blank level0\" >&nbsp;</th>\n",
       "      <th id=\"T_cdd42_level0_col0\" class=\"col_heading level0 col0\" >count</th>\n",
       "      <th id=\"T_cdd42_level0_col1\" class=\"col_heading level0 col1\" >mean</th>\n",
       "      <th id=\"T_cdd42_level0_col2\" class=\"col_heading level0 col2\" >std</th>\n",
       "      <th id=\"T_cdd42_level0_col3\" class=\"col_heading level0 col3\" >min</th>\n",
       "      <th id=\"T_cdd42_level0_col4\" class=\"col_heading level0 col4\" >max</th>\n",
       "      <th id=\"T_cdd42_level0_col5\" class=\"col_heading level0 col5\" >median</th>\n",
       "    </tr>\n",
       "  </thead>\n",
       "  <tbody>\n",
       "    <tr>\n",
       "      <th id=\"T_cdd42_level0_row0\" class=\"row_heading level0 row0\" >Demanda_uni_equil</th>\n",
       "      <td id=\"T_cdd42_row0_col0\" class=\"data row0 col0\" >7974418.0</td>\n",
       "      <td id=\"T_cdd42_row0_col1\" class=\"data row0 col1\" >7.5</td>\n",
       "      <td id=\"T_cdd42_row0_col2\" class=\"data row0 col2\" >21.9</td>\n",
       "      <td id=\"T_cdd42_row0_col3\" class=\"data row0 col3\" >0.0</td>\n",
       "      <td id=\"T_cdd42_row0_col4\" class=\"data row0 col4\" >4732.0</td>\n",
       "      <td id=\"T_cdd42_row0_col5\" class=\"data row0 col5\" >4.0</td>\n",
       "    </tr>\n",
       "    <tr>\n",
       "      <th id=\"T_cdd42_level0_row1\" class=\"row_heading level0 row1\" >Venta_uni_hoy</th>\n",
       "      <td id=\"T_cdd42_row1_col0\" class=\"data row1 col0\" >7974418.0</td>\n",
       "      <td id=\"T_cdd42_row1_col1\" class=\"data row1 col1\" >7.5</td>\n",
       "      <td id=\"T_cdd42_row1_col2\" class=\"data row1 col2\" >22.1</td>\n",
       "      <td id=\"T_cdd42_row1_col3\" class=\"data row1 col3\" >0.0</td>\n",
       "      <td id=\"T_cdd42_row1_col4\" class=\"data row1 col4\" >4800.0</td>\n",
       "      <td id=\"T_cdd42_row1_col5\" class=\"data row1 col5\" >4.0</td>\n",
       "    </tr>\n",
       "    <tr>\n",
       "      <th id=\"T_cdd42_level0_row2\" class=\"row_heading level0 row2\" >Dev_uni_proxima</th>\n",
       "      <td id=\"T_cdd42_row2_col0\" class=\"data row2 col0\" >7974418.0</td>\n",
       "      <td id=\"T_cdd42_row2_col1\" class=\"data row2 col1\" >0.1</td>\n",
       "      <td id=\"T_cdd42_row2_col2\" class=\"data row2 col2\" >3.2</td>\n",
       "      <td id=\"T_cdd42_row2_col3\" class=\"data row2 col3\" >0.0</td>\n",
       "      <td id=\"T_cdd42_row2_col4\" class=\"data row2 col4\" >3360.0</td>\n",
       "      <td id=\"T_cdd42_row2_col5\" class=\"data row2 col5\" >0.0</td>\n",
       "    </tr>\n",
       "    <tr>\n",
       "      <th id=\"T_cdd42_level0_row3\" class=\"row_heading level0 row3\" >Agencias</th>\n",
       "      <td id=\"T_cdd42_row3_col0\" class=\"data row3 col0\" >41.0</td>\n",
       "      <td id=\"T_cdd42_row3_col1\" class=\"data row3 col1\" >194498.0</td>\n",
       "      <td id=\"T_cdd42_row3_col2\" class=\"data row3 col2\" >190376.4</td>\n",
       "      <td id=\"T_cdd42_row3_col3\" class=\"data row3 col3\" >26.0</td>\n",
       "      <td id=\"T_cdd42_row3_col4\" class=\"data row3 col4\" >628028.0</td>\n",
       "      <td id=\"T_cdd42_row3_col5\" class=\"data row3 col5\" >58951.0</td>\n",
       "    </tr>\n",
       "  </tbody>\n",
       "</table>\n"
      ],
      "text/plain": [
       "<pandas.io.formats.style.Styler at 0x19837b61f10>"
      ]
     },
     "metadata": {},
     "output_type": "display_data"
    }
   ],
   "source": [
    "# 3.0.2. Estadísticas específicas\n",
    "columnas_clave = ['Demanda_uni_equil', 'Venta_uni_hoy', 'Dev_uni_proxima']\n",
    "stats = candidate[columnas_clave].agg(['count', 'mean', 'std', 'min', 'max', 'median']).T\n",
    "\n",
    "# 3.0.3. Transacciones por agencia\n",
    "transacciones_por_agencia = candidate.groupby('Agencia_ID').size()\n",
    "stats.loc['Agencias'] = {\n",
    "    'count': transacciones_por_agencia.count(),\n",
    "    'mean': transacciones_por_agencia.mean(),\n",
    "    'std': transacciones_por_agencia.std(),\n",
    "    'min': transacciones_por_agencia.min(),\n",
    "    'max': transacciones_por_agencia.max(),\n",
    "    'median': transacciones_por_agencia.median()\n",
    "}\n",
    "\n",
    "# 3.0.4. Resultados formateados\n",
    "pd.set_option('display.float_format', lambda x: '%.1f' % x)\n",
    "display(stats.style.format('{:.1f}').background_gradient(cmap='Blues', subset=['mean', 'median']))"
   ]
  },
  {
   "cell_type": "code",
   "execution_count": 40,
   "id": "15084554",
   "metadata": {},
   "outputs": [
    {
     "name": "stdout",
     "output_type": "stream",
     "text": [
      "\n",
      "Demanda promedio por semana:\n"
     ]
    },
    {
     "data": {
      "text/html": [
       "<style type=\"text/css\">\n",
       "#T_9880e_row0_col0 {\n",
       "  background-color: #ffffcc;\n",
       "  color: #000000;\n",
       "}\n",
       "#T_9880e_row1_col0 {\n",
       "  background-color: #f03523;\n",
       "  color: #f1f1f1;\n",
       "}\n",
       "#T_9880e_row2_col0, #T_9880e_row3_col0 {\n",
       "  background-color: #800026;\n",
       "  color: #f1f1f1;\n",
       "}\n",
       "#T_9880e_row4_col0 {\n",
       "  background-color: #cf0c21;\n",
       "  color: #f1f1f1;\n",
       "}\n",
       "#T_9880e_row5_col0 {\n",
       "  background-color: #f33b25;\n",
       "  color: #f1f1f1;\n",
       "}\n",
       "</style>\n",
       "<table id=\"T_9880e\">\n",
       "  <thead>\n",
       "    <tr>\n",
       "      <th class=\"blank level0\" >&nbsp;</th>\n",
       "      <th id=\"T_9880e_level0_col0\" class=\"col_heading level0 col0\" >Demanda_uni_equil</th>\n",
       "    </tr>\n",
       "    <tr>\n",
       "      <th class=\"index_name level0\" >Semana</th>\n",
       "      <th class=\"blank col0\" >&nbsp;</th>\n",
       "    </tr>\n",
       "  </thead>\n",
       "  <tbody>\n",
       "    <tr>\n",
       "      <th id=\"T_9880e_level0_row0\" class=\"row_heading level0 row0\" >3</th>\n",
       "      <td id=\"T_9880e_row0_col0\" class=\"data row0 col0\" >7.1</td>\n",
       "    </tr>\n",
       "    <tr>\n",
       "      <th id=\"T_9880e_level0_row1\" class=\"row_heading level0 row1\" >4</th>\n",
       "      <td id=\"T_9880e_row1_col0\" class=\"data row1 col0\" >7.5</td>\n",
       "    </tr>\n",
       "    <tr>\n",
       "      <th id=\"T_9880e_level0_row2\" class=\"row_heading level0 row2\" >5</th>\n",
       "      <td id=\"T_9880e_row2_col0\" class=\"data row2 col0\" >7.6</td>\n",
       "    </tr>\n",
       "    <tr>\n",
       "      <th id=\"T_9880e_level0_row3\" class=\"row_heading level0 row3\" >6</th>\n",
       "      <td id=\"T_9880e_row3_col0\" class=\"data row3 col0\" >7.6</td>\n",
       "    </tr>\n",
       "    <tr>\n",
       "      <th id=\"T_9880e_level0_row4\" class=\"row_heading level0 row4\" >7</th>\n",
       "      <td id=\"T_9880e_row4_col0\" class=\"data row4 col0\" >7.5</td>\n",
       "    </tr>\n",
       "    <tr>\n",
       "      <th id=\"T_9880e_level0_row5\" class=\"row_heading level0 row5\" >8</th>\n",
       "      <td id=\"T_9880e_row5_col0\" class=\"data row5 col0\" >7.5</td>\n",
       "    </tr>\n",
       "  </tbody>\n",
       "</table>\n"
      ],
      "text/plain": [
       "<pandas.io.formats.style.Styler at 0x19836688760>"
      ]
     },
     "metadata": {},
     "output_type": "display_data"
    }
   ],
   "source": [
    "# Demanda promedio por semana\n",
    "demanda_semanal = candidate.groupby('Semana')['Demanda_uni_equil'].mean()\n",
    "print(\"\\nDemanda promedio por semana:\")\n",
    "display(demanda_semanal.to_frame().style.format('{:.1f}').background_gradient(cmap='YlOrRd'))"
   ]
  },
  {
   "cell_type": "markdown",
   "id": "0ba6e31b",
   "metadata": {},
   "source": [
    "#### 3.1.1 Resumen general por agencia"
   ]
  },
  {
   "cell_type": "code",
   "execution_count": 6,
   "id": "d5add335",
   "metadata": {
    "scrolled": true
   },
   "outputs": [
    {
     "name": "stdout",
     "output_type": "stream",
     "text": [
      "🏙️ Top 10 agencias por transacciones y demanda promedio:\n"
     ]
    },
    {
     "data": {
      "text/html": [
       "<div>\n",
       "<style scoped>\n",
       "    .dataframe tbody tr th:only-of-type {\n",
       "        vertical-align: middle;\n",
       "    }\n",
       "\n",
       "    .dataframe tbody tr th {\n",
       "        vertical-align: top;\n",
       "    }\n",
       "\n",
       "    .dataframe thead th {\n",
       "        text-align: right;\n",
       "    }\n",
       "</style>\n",
       "<table border=\"1\" class=\"dataframe\">\n",
       "  <thead>\n",
       "    <tr style=\"text-align: right;\">\n",
       "      <th></th>\n",
       "      <th>ID</th>\n",
       "      <th>agencia</th>\n",
       "      <th>total_transacciones</th>\n",
       "      <th>demanda_promedio</th>\n",
       "      <th>ventas_totales</th>\n",
       "      <th>devoluciones_totales</th>\n",
       "    </tr>\n",
       "  </thead>\n",
       "  <tbody>\n",
       "    <tr>\n",
       "      <th>0</th>\n",
       "      <td>1123</td>\n",
       "      <td>2094 CHALCO_BM</td>\n",
       "      <td>628028</td>\n",
       "      <td>4.8</td>\n",
       "      <td>3035033</td>\n",
       "      <td>45845</td>\n",
       "    </tr>\n",
       "    <tr>\n",
       "      <th>1</th>\n",
       "      <td>1126</td>\n",
       "      <td>2017 AG. SANTA CLARA</td>\n",
       "      <td>494583</td>\n",
       "      <td>5.6</td>\n",
       "      <td>2783455</td>\n",
       "      <td>28955</td>\n",
       "    </tr>\n",
       "    <tr>\n",
       "      <th>2</th>\n",
       "      <td>1117</td>\n",
       "      <td>2001 AG. ATIZAPAN</td>\n",
       "      <td>477355</td>\n",
       "      <td>5.6</td>\n",
       "      <td>2707794</td>\n",
       "      <td>44282</td>\n",
       "    </tr>\n",
       "    <tr>\n",
       "      <th>3</th>\n",
       "      <td>1121</td>\n",
       "      <td>2016 AG. SAN LORENZO</td>\n",
       "      <td>464152</td>\n",
       "      <td>6.1</td>\n",
       "      <td>2827924</td>\n",
       "      <td>23890</td>\n",
       "    </tr>\n",
       "    <tr>\n",
       "      <th>4</th>\n",
       "      <td>1116</td>\n",
       "      <td>2011 AG. SAN ANTONIO</td>\n",
       "      <td>414730</td>\n",
       "      <td>6.3</td>\n",
       "      <td>2644011</td>\n",
       "      <td>31374</td>\n",
       "    </tr>\n",
       "    <tr>\n",
       "      <th>5</th>\n",
       "      <td>1130</td>\n",
       "      <td>2010 AG. LOS REYES</td>\n",
       "      <td>401189</td>\n",
       "      <td>5.6</td>\n",
       "      <td>2293887</td>\n",
       "      <td>41799</td>\n",
       "    </tr>\n",
       "    <tr>\n",
       "      <th>6</th>\n",
       "      <td>1120</td>\n",
       "      <td>2018 AG. TEPALCATES 2</td>\n",
       "      <td>400331</td>\n",
       "      <td>6.2</td>\n",
       "      <td>2487607</td>\n",
       "      <td>22316</td>\n",
       "    </tr>\n",
       "    <tr>\n",
       "      <th>7</th>\n",
       "      <td>1137</td>\n",
       "      <td>2014 AG. NEZA</td>\n",
       "      <td>397904</td>\n",
       "      <td>5.6</td>\n",
       "      <td>2246122</td>\n",
       "      <td>46246</td>\n",
       "    </tr>\n",
       "    <tr>\n",
       "      <th>8</th>\n",
       "      <td>1122</td>\n",
       "      <td>2019 AG. XALOSTOC</td>\n",
       "      <td>394903</td>\n",
       "      <td>6.1</td>\n",
       "      <td>2414684</td>\n",
       "      <td>21796</td>\n",
       "    </tr>\n",
       "    <tr>\n",
       "      <th>9</th>\n",
       "      <td>1111</td>\n",
       "      <td>2002 AG. AZCAPOTZALCO</td>\n",
       "      <td>386466</td>\n",
       "      <td>6.0</td>\n",
       "      <td>2339508</td>\n",
       "      <td>21566</td>\n",
       "    </tr>\n",
       "  </tbody>\n",
       "</table>\n",
       "</div>"
      ],
      "text/plain": [
       "     ID                agencia  total_transacciones  demanda_promedio  \\\n",
       "0  1123         2094 CHALCO_BM               628028               4.8   \n",
       "1  1126   2017 AG. SANTA CLARA               494583               5.6   \n",
       "2  1117      2001 AG. ATIZAPAN               477355               5.6   \n",
       "3  1121   2016 AG. SAN LORENZO               464152               6.1   \n",
       "4  1116   2011 AG. SAN ANTONIO               414730               6.3   \n",
       "5  1130     2010 AG. LOS REYES               401189               5.6   \n",
       "6  1120  2018 AG. TEPALCATES 2               400331               6.2   \n",
       "7  1137          2014 AG. NEZA               397904               5.6   \n",
       "8  1122      2019 AG. XALOSTOC               394903               6.1   \n",
       "9  1111  2002 AG. AZCAPOTZALCO               386466               6.0   \n",
       "\n",
       "   ventas_totales  devoluciones_totales  \n",
       "0         3035033                 45845  \n",
       "1         2783455                 28955  \n",
       "2         2707794                 44282  \n",
       "3         2827924                 23890  \n",
       "4         2644011                 31374  \n",
       "5         2293887                 41799  \n",
       "6         2487607                 22316  \n",
       "7         2246122                 46246  \n",
       "8         2414684                 21796  \n",
       "9         2339508                 21566  "
      ]
     },
     "metadata": {},
     "output_type": "display_data"
    }
   ],
   "source": [
    "query_resumen = \"\"\"\n",
    "SELECT \n",
    "    a.Agencia_ID as ID,\n",
    "    a.Town AS agencia,\n",
    "    COUNT(*) AS total_transacciones,\n",
    "    AVG(v.Demanda_uni_equil) AS demanda_promedio,\n",
    "    SUM(v.Venta_uni_hoy) AS ventas_totales,\n",
    "    SUM(v.Dev_uni_proxima) AS devoluciones_totales\n",
    "FROM \n",
    "    candidate v\n",
    "JOIN \n",
    "    agencias a ON v.Agencia_ID = a.Agencia_ID\n",
    "GROUP BY \n",
    "    a.Town, a.Agencia_ID\n",
    "ORDER BY \n",
    "    total_transacciones DESC, demanda_promedio DESC\n",
    "LIMIT 10;\n",
    "\"\"\"\n",
    "\n",
    "resumen_agencias = pd.read_sql(query_resumen, conn)\n",
    "print(\"🏙️ Top 10 agencias por transacciones y demanda promedio:\")\n",
    "display(resumen_agencias)"
   ]
  },
  {
   "cell_type": "markdown",
   "id": "6e9b3f6c",
   "metadata": {},
   "source": [
    "#### 3.1.2. Análisis de outliers"
   ]
  },
  {
   "cell_type": "code",
   "execution_count": 7,
   "id": "63d5ecaf",
   "metadata": {},
   "outputs": [
    {
     "data": {
      "image/png": "[encoded data removed]",
      "text/plain": [
       "<Figure size 720x432 with 1 Axes>"
      ]
     },
     "metadata": {
      "needs_background": "light"
     },
     "output_type": "display_data"
    }
   ],
   "source": [
    "plt.figure(figsize=(10, 6))\n",
    "sns.scatterplot(\n",
    "    data=resumen_agencias,\n",
    "    x='agencia',\n",
    "    y='total_transacciones',\n",
    "    size='total_transacciones',\n",
    "    hue='demanda_promedio',\n",
    "    palette='Greens',\n",
    "    legend=False,\n",
    "    sizes=(100, 1000)\n",
    ")\n",
    "\n",
    "# Formatear el eje y para mostrar valores en millones\n",
    "plt.gca().yaxis.set_major_formatter(ticker.FuncFormatter(lambda x, pos: f'{x/1e6:.1f}M'))\n",
    "\n",
    "plt.title('Relación entre total de transacciones y demanda promedio por agencia')\n",
    "plt.xticks(rotation=45)\n",
    "plt.ylabel('Total de transacciones (en millones)')  # Añadir etiqueta clara al eje y\n",
    "plt.tight_layout()\n",
    "plt.show()\n",
    "\n"
   ]
  },
  {
   "cell_type": "markdown",
   "id": "0444d461",
   "metadata": {},
   "source": [
    "### 3.2 Análisis de Productos\n",
    "Esta sección profundiza en las características de los productos comercializados:\n",
    "- Estadísticas semanales de productos (total, transacciones promedio, máximos)\n",
    "- Identificación de productos más comunes y su frecuencia\n",
    "- Análisis de demanda, venta y devolución promedio por producto\n",
    "- Seguimiento de los top 5 productos por demanda promedio semanal"
   ]
  },
  {
   "cell_type": "code",
   "execution_count": 114,
   "id": "16bf0e05",
   "metadata": {},
   "outputs": [
    {
     "name": "stdout",
     "output_type": "stream",
     "text": [
      "\n",
      "Estadísticas semanales de productos:\n"
     ]
    },
    {
     "data": {
      "text/html": [
       "<style type=\"text/css\">\n",
       "#T_9e402_row0_col0, #T_9e402_row0_col2, #T_9e402_row0_col5, #T_9e402_row0_col6, #T_9e402_row0_col7, #T_9e402_row1_col1, #T_9e402_row1_col4, #T_9e402_row2_col4, #T_9e402_row3_col4, #T_9e402_row4_col0, #T_9e402_row4_col4, #T_9e402_row5_col8 {\n",
       "  background-color: #00441b;\n",
       "  color: #f1f1f1;\n",
       "}\n",
       "#T_9e402_row0_col1 {\n",
       "  background-color: #00491d;\n",
       "  color: #f1f1f1;\n",
       "}\n",
       "#T_9e402_row0_col3, #T_9e402_row0_col4, #T_9e402_row1_col3, #T_9e402_row1_col8, #T_9e402_row2_col0, #T_9e402_row2_col3, #T_9e402_row3_col1, #T_9e402_row3_col2, #T_9e402_row3_col3, #T_9e402_row3_col5, #T_9e402_row4_col3, #T_9e402_row5_col3, #T_9e402_row5_col4, #T_9e402_row5_col6, #T_9e402_row5_col7 {\n",
       "  background-color: #f7fcf5;\n",
       "  color: #000000;\n",
       "}\n",
       "#T_9e402_row0_col8 {\n",
       "  background-color: #9bd696;\n",
       "  color: #000000;\n",
       "}\n",
       "#T_9e402_row1_col0 {\n",
       "  background-color: #b2e0ac;\n",
       "  color: #000000;\n",
       "}\n",
       "#T_9e402_row1_col2, #T_9e402_row1_col5 {\n",
       "  background-color: #78c679;\n",
       "  color: #000000;\n",
       "}\n",
       "#T_9e402_row1_col6 {\n",
       "  background-color: #a4da9e;\n",
       "  color: #000000;\n",
       "}\n",
       "#T_9e402_row1_col7 {\n",
       "  background-color: #a7dba0;\n",
       "  color: #000000;\n",
       "}\n",
       "#T_9e402_row2_col1 {\n",
       "  background-color: #8dd08a;\n",
       "  color: #000000;\n",
       "}\n",
       "#T_9e402_row2_col2, #T_9e402_row2_col5 {\n",
       "  background-color: #e2f4dd;\n",
       "  color: #000000;\n",
       "}\n",
       "#T_9e402_row2_col6, #T_9e402_row2_col7 {\n",
       "  background-color: #98d594;\n",
       "  color: #000000;\n",
       "}\n",
       "#T_9e402_row2_col8 {\n",
       "  background-color: #d9f0d3;\n",
       "  color: #000000;\n",
       "}\n",
       "#T_9e402_row3_col0 {\n",
       "  background-color: #84cc83;\n",
       "  color: #000000;\n",
       "}\n",
       "#T_9e402_row3_col6 {\n",
       "  background-color: #d3eecd;\n",
       "  color: #000000;\n",
       "}\n",
       "#T_9e402_row3_col7 {\n",
       "  background-color: #d5efcf;\n",
       "  color: #000000;\n",
       "}\n",
       "#T_9e402_row3_col8 {\n",
       "  background-color: #f0f9ed;\n",
       "  color: #000000;\n",
       "}\n",
       "#T_9e402_row4_col1 {\n",
       "  background-color: #c3e7bc;\n",
       "  color: #000000;\n",
       "}\n",
       "#T_9e402_row4_col2, #T_9e402_row4_col5 {\n",
       "  background-color: #005321;\n",
       "  color: #f1f1f1;\n",
       "}\n",
       "#T_9e402_row4_col6 {\n",
       "  background-color: #a5db9f;\n",
       "  color: #000000;\n",
       "}\n",
       "#T_9e402_row4_col7 {\n",
       "  background-color: #a8dca2;\n",
       "  color: #000000;\n",
       "}\n",
       "#T_9e402_row4_col8 {\n",
       "  background-color: #92d28f;\n",
       "  color: #000000;\n",
       "}\n",
       "#T_9e402_row5_col0 {\n",
       "  background-color: #62bb6d;\n",
       "  color: #f1f1f1;\n",
       "}\n",
       "#T_9e402_row5_col1 {\n",
       "  background-color: #46ae60;\n",
       "  color: #f1f1f1;\n",
       "}\n",
       "#T_9e402_row5_col2, #T_9e402_row5_col5 {\n",
       "  background-color: #63bc6e;\n",
       "  color: #f1f1f1;\n",
       "}\n",
       "</style>\n",
       "<table id=\"T_9e402\">\n",
       "  <thead>\n",
       "    <tr>\n",
       "      <th class=\"blank level0\" >&nbsp;</th>\n",
       "      <th id=\"T_9e402_level0_col0\" class=\"col_heading level0 col0\" >Total Productos</th>\n",
       "      <th id=\"T_9e402_level0_col1\" class=\"col_heading level0 col1\" >Promedio transacciones por producto</th>\n",
       "      <th id=\"T_9e402_level0_col2\" class=\"col_heading level0 col2\" >Máximo transacciones por producto</th>\n",
       "      <th id=\"T_9e402_level0_col3\" class=\"col_heading level0 col3\" >Mínimo transacciones por producto</th>\n",
       "      <th id=\"T_9e402_level0_col4\" class=\"col_heading level0 col4\" >Producto más común (ID)</th>\n",
       "      <th id=\"T_9e402_level0_col5\" class=\"col_heading level0 col5\" >Frecuencia del producto más común</th>\n",
       "      <th id=\"T_9e402_level0_col6\" class=\"col_heading level0 col6\" >Demanda promedio por producto</th>\n",
       "      <th id=\"T_9e402_level0_col7\" class=\"col_heading level0 col7\" >Venta promedio por producto</th>\n",
       "      <th id=\"T_9e402_level0_col8\" class=\"col_heading level0 col8\" >Devolución promedio por producto</th>\n",
       "    </tr>\n",
       "    <tr>\n",
       "      <th class=\"index_name level0\" >Semana</th>\n",
       "      <th class=\"blank col0\" >&nbsp;</th>\n",
       "      <th class=\"blank col1\" >&nbsp;</th>\n",
       "      <th class=\"blank col2\" >&nbsp;</th>\n",
       "      <th class=\"blank col3\" >&nbsp;</th>\n",
       "      <th class=\"blank col4\" >&nbsp;</th>\n",
       "      <th class=\"blank col5\" >&nbsp;</th>\n",
       "      <th class=\"blank col6\" >&nbsp;</th>\n",
       "      <th class=\"blank col7\" >&nbsp;</th>\n",
       "      <th class=\"blank col8\" >&nbsp;</th>\n",
       "    </tr>\n",
       "  </thead>\n",
       "  <tbody>\n",
       "    <tr>\n",
       "      <th id=\"T_9e402_level0_row0\" class=\"row_heading level0 row0\" >3</th>\n",
       "      <td id=\"T_9e402_row0_col0\" class=\"data row0 col0\" >627.0</td>\n",
       "      <td id=\"T_9e402_row0_col1\" class=\"data row0 col1\" >2286.9</td>\n",
       "      <td id=\"T_9e402_row0_col2\" class=\"data row0 col2\" >46676.0</td>\n",
       "      <td id=\"T_9e402_row0_col3\" class=\"data row0 col3\" >1.0</td>\n",
       "      <td id=\"T_9e402_row0_col4\" class=\"data row0 col4\" >1250.0</td>\n",
       "      <td id=\"T_9e402_row0_col5\" class=\"data row0 col5\" >46676.0</td>\n",
       "      <td id=\"T_9e402_row0_col6\" class=\"data row0 col6\" >64.4</td>\n",
       "      <td id=\"T_9e402_row0_col7\" class=\"data row0 col7\" >65.4</td>\n",
       "      <td id=\"T_9e402_row0_col8\" class=\"data row0 col8\" >1.5</td>\n",
       "    </tr>\n",
       "    <tr>\n",
       "      <th id=\"T_9e402_level0_row1\" class=\"row_heading level0 row1\" >4</th>\n",
       "      <td id=\"T_9e402_row1_col0\" class=\"data row1 col0\" >612.0</td>\n",
       "      <td id=\"T_9e402_row1_col1\" class=\"data row1 col1\" >2292.6</td>\n",
       "      <td id=\"T_9e402_row1_col2\" class=\"data row1 col2\" >45095.0</td>\n",
       "      <td id=\"T_9e402_row1_col3\" class=\"data row1 col3\" >1.0</td>\n",
       "      <td id=\"T_9e402_row1_col4\" class=\"data row1 col4\" >1278.0</td>\n",
       "      <td id=\"T_9e402_row1_col5\" class=\"data row1 col5\" >45095.0</td>\n",
       "      <td id=\"T_9e402_row1_col6\" class=\"data row1 col6\" >47.2</td>\n",
       "      <td id=\"T_9e402_row1_col7\" class=\"data row1 col7\" >47.6</td>\n",
       "      <td id=\"T_9e402_row1_col8\" class=\"data row1 col8\" >1.2</td>\n",
       "    </tr>\n",
       "    <tr>\n",
       "      <th id=\"T_9e402_level0_row2\" class=\"row_heading level0 row2\" >5</th>\n",
       "      <td id=\"T_9e402_row2_col0\" class=\"data row2 col0\" >605.0</td>\n",
       "      <td id=\"T_9e402_row2_col1\" class=\"data row2 col1\" >2117.6</td>\n",
       "      <td id=\"T_9e402_row2_col2\" class=\"data row2 col2\" >44015.0</td>\n",
       "      <td id=\"T_9e402_row2_col3\" class=\"data row2 col3\" >1.0</td>\n",
       "      <td id=\"T_9e402_row2_col4\" class=\"data row2 col4\" >1278.0</td>\n",
       "      <td id=\"T_9e402_row2_col5\" class=\"data row2 col5\" >44015.0</td>\n",
       "      <td id=\"T_9e402_row2_col6\" class=\"data row2 col6\" >48.2</td>\n",
       "      <td id=\"T_9e402_row2_col7\" class=\"data row2 col7\" >48.7</td>\n",
       "      <td id=\"T_9e402_row2_col8\" class=\"data row2 col8\" >1.4</td>\n",
       "    </tr>\n",
       "    <tr>\n",
       "      <th id=\"T_9e402_level0_row3\" class=\"row_heading level0 row3\" >6</th>\n",
       "      <td id=\"T_9e402_row3_col0\" class=\"data row3 col0\" >615.0</td>\n",
       "      <td id=\"T_9e402_row3_col1\" class=\"data row3 col1\" >1984.8</td>\n",
       "      <td id=\"T_9e402_row3_col2\" class=\"data row3 col2\" >43580.0</td>\n",
       "      <td id=\"T_9e402_row3_col3\" class=\"data row3 col3\" >1.0</td>\n",
       "      <td id=\"T_9e402_row3_col4\" class=\"data row3 col4\" >1278.0</td>\n",
       "      <td id=\"T_9e402_row3_col5\" class=\"data row3 col5\" >43580.0</td>\n",
       "      <td id=\"T_9e402_row3_col6\" class=\"data row3 col6\" >42.7</td>\n",
       "      <td id=\"T_9e402_row3_col7\" class=\"data row3 col7\" >43.0</td>\n",
       "      <td id=\"T_9e402_row3_col8\" class=\"data row3 col8\" >1.3</td>\n",
       "    </tr>\n",
       "    <tr>\n",
       "      <th id=\"T_9e402_level0_row4\" class=\"row_heading level0 row4\" >7</th>\n",
       "      <td id=\"T_9e402_row4_col0\" class=\"data row4 col0\" >627.0</td>\n",
       "      <td id=\"T_9e402_row4_col1\" class=\"data row4 col1\" >2065.8</td>\n",
       "      <td id=\"T_9e402_row4_col2\" class=\"data row4 col2\" >46529.0</td>\n",
       "      <td id=\"T_9e402_row4_col3\" class=\"data row4 col3\" >1.0</td>\n",
       "      <td id=\"T_9e402_row4_col4\" class=\"data row4 col4\" >1278.0</td>\n",
       "      <td id=\"T_9e402_row4_col5\" class=\"data row4 col5\" >46529.0</td>\n",
       "      <td id=\"T_9e402_row4_col6\" class=\"data row4 col6\" >47.1</td>\n",
       "      <td id=\"T_9e402_row4_col7\" class=\"data row4 col7\" >47.5</td>\n",
       "      <td id=\"T_9e402_row4_col8\" class=\"data row4 col8\" >1.6</td>\n",
       "    </tr>\n",
       "    <tr>\n",
       "      <th id=\"T_9e402_level0_row5\" class=\"row_heading level0 row5\" >8</th>\n",
       "      <td id=\"T_9e402_row5_col0\" class=\"data row5 col0\" >617.0</td>\n",
       "      <td id=\"T_9e402_row5_col1\" class=\"data row5 col1\" >2172.5</td>\n",
       "      <td id=\"T_9e402_row5_col2\" class=\"data row5 col2\" >45254.0</td>\n",
       "      <td id=\"T_9e402_row5_col3\" class=\"data row5 col3\" >1.0</td>\n",
       "      <td id=\"T_9e402_row5_col4\" class=\"data row5 col4\" >1250.0</td>\n",
       "      <td id=\"T_9e402_row5_col5\" class=\"data row5 col5\" >45254.0</td>\n",
       "      <td id=\"T_9e402_row5_col6\" class=\"data row5 col6\" >37.3</td>\n",
       "      <td id=\"T_9e402_row5_col7\" class=\"data row5 col7\" >37.6</td>\n",
       "      <td id=\"T_9e402_row5_col8\" class=\"data row5 col8\" >2.0</td>\n",
       "    </tr>\n",
       "  </tbody>\n",
       "</table>\n"
      ],
      "text/plain": [
       "<pandas.io.formats.style.Styler at 0x198531d7490>"
      ]
     },
     "metadata": {},
     "output_type": "display_data"
    }
   ],
   "source": [
    "# 3.0.1. Estadísticas de productos por semana\n",
    "# Crear un DataFrame separado para las estadísticas\n",
    "stats_semanales = []\n",
    "\n",
    "# Agrupar por semana\n",
    "for semana, datos_semana in candidate.groupby('Semana'):\n",
    "    stats = {}\n",
    "    stats['Semana'] = semana\n",
    "    stats['Total Productos'] = datos_semana['Producto_ID'].nunique()\n",
    "\n",
    "    transacciones = datos_semana.groupby('Producto_ID').size()\n",
    "    stats['Promedio transacciones por producto'] = transacciones.mean()\n",
    "    stats['Máximo transacciones por producto'] = transacciones.max()\n",
    "    stats['Mínimo transacciones por producto'] = transacciones.min()\n",
    "\n",
    "    producto_mas_comun = transacciones.idxmax()\n",
    "    stats['Producto más común (ID)'] = producto_mas_comun\n",
    "    stats['Frecuencia del producto más común'] = transacciones.max()\n",
    "\n",
    "    demanda_prom = datos_semana.groupby('Producto_ID')['Demanda_uni_equil'].mean().mean()\n",
    "    stats['Demanda promedio por producto'] = demanda_prom\n",
    "\n",
    "    venta_prom = datos_semana.groupby('Producto_ID')['Venta_uni_hoy'].mean().mean()\n",
    "    stats['Venta promedio por producto'] = venta_prom\n",
    "\n",
    "    devol_prom = datos_semana.groupby('Producto_ID')['Dev_uni_proxima'].mean().mean()\n",
    "    stats['Devolución promedio por producto'] = devol_prom\n",
    "\n",
    "    stats_semanales.append(stats)\n",
    "\n",
    "# Convertir a DataFrame\n",
    "stats_productos = pd.DataFrame(stats_semanales).set_index('Semana')\n",
    "\n",
    "# 3.0.2. Resultados formateados\n",
    "pd.set_option('display.float_format', lambda x: '%.1f' % x)\n",
    "\n",
    "print(\"\\nEstadísticas semanales de productos:\")\n",
    "display(stats_productos.style.format('{:.1f}').background_gradient(cmap='Greens'))\n"
   ]
  },
  {
   "cell_type": "code",
   "execution_count": 118,
   "id": "cd727b54",
   "metadata": {},
   "outputs": [
    {
     "name": "stdout",
     "output_type": "stream",
     "text": [
      "\n",
      "Top 5 productos - Demanda promedio semanal:\n"
     ]
    },
    {
     "data": {
      "text/html": [
       "<style type=\"text/css\">\n",
       "#T_5d1f7_row0_col0 {\n",
       "  background-color: #f36e19;\n",
       "  color: #f1f1f1;\n",
       "}\n",
       "#T_5d1f7_row0_col1 {\n",
       "  background-color: #d64701;\n",
       "  color: #f1f1f1;\n",
       "}\n",
       "#T_5d1f7_row0_col2 {\n",
       "  background-color: #9b3203;\n",
       "  color: #f1f1f1;\n",
       "}\n",
       "#T_5d1f7_row0_col3 {\n",
       "  background-color: #8b2c04;\n",
       "  color: #f1f1f1;\n",
       "}\n",
       "#T_5d1f7_row0_col4 {\n",
       "  background-color: #7f2704;\n",
       "  color: #f1f1f1;\n",
       "}\n",
       "#T_5d1f7_row0_col5 {\n",
       "  background-color: #812804;\n",
       "  color: #f1f1f1;\n",
       "}\n",
       "#T_5d1f7_row0_col6 {\n",
       "  background-color: #a83703;\n",
       "  color: #f1f1f1;\n",
       "}\n",
       "#T_5d1f7_row1_col0 {\n",
       "  background-color: #fda660;\n",
       "  color: #000000;\n",
       "}\n",
       "#T_5d1f7_row1_col1 {\n",
       "  background-color: #fc8b3a;\n",
       "  color: #f1f1f1;\n",
       "}\n",
       "#T_5d1f7_row1_col2 {\n",
       "  background-color: #f3701b;\n",
       "  color: #f1f1f1;\n",
       "}\n",
       "#T_5d1f7_row1_col3, #T_5d1f7_row1_col4 {\n",
       "  background-color: #f16813;\n",
       "  color: #f1f1f1;\n",
       "}\n",
       "#T_5d1f7_row1_col5 {\n",
       "  background-color: #f4711c;\n",
       "  color: #f1f1f1;\n",
       "}\n",
       "#T_5d1f7_row1_col6 {\n",
       "  background-color: #f77b28;\n",
       "  color: #f1f1f1;\n",
       "}\n",
       "#T_5d1f7_row2_col0, #T_5d1f7_row2_col6 {\n",
       "  background-color: #fdb97d;\n",
       "  color: #000000;\n",
       "}\n",
       "#T_5d1f7_row2_col1 {\n",
       "  background-color: #fdaf6c;\n",
       "  color: #000000;\n",
       "}\n",
       "#T_5d1f7_row2_col2 {\n",
       "  background-color: #fdb678;\n",
       "  color: #000000;\n",
       "}\n",
       "#T_5d1f7_row2_col3, #T_5d1f7_row2_col5 {\n",
       "  background-color: #fdbd83;\n",
       "  color: #000000;\n",
       "}\n",
       "#T_5d1f7_row2_col4 {\n",
       "  background-color: #fdc088;\n",
       "  color: #000000;\n",
       "}\n",
       "#T_5d1f7_row3_col0, #T_5d1f7_row3_col2, #T_5d1f7_row3_col6 {\n",
       "  background-color: #feeddc;\n",
       "  color: #000000;\n",
       "}\n",
       "#T_5d1f7_row3_col1 {\n",
       "  background-color: #feead5;\n",
       "  color: #000000;\n",
       "}\n",
       "#T_5d1f7_row3_col3 {\n",
       "  background-color: #feeddb;\n",
       "  color: #000000;\n",
       "}\n",
       "#T_5d1f7_row3_col4, #T_5d1f7_row4_col0 {\n",
       "  background-color: #ffefdf;\n",
       "  color: #000000;\n",
       "}\n",
       "#T_5d1f7_row3_col5 {\n",
       "  background-color: #fff0e1;\n",
       "  color: #000000;\n",
       "}\n",
       "#T_5d1f7_row4_col1 {\n",
       "  background-color: #fff0e2;\n",
       "  color: #000000;\n",
       "}\n",
       "#T_5d1f7_row4_col2, #T_5d1f7_row4_col6 {\n",
       "  background-color: #fff2e6;\n",
       "  color: #000000;\n",
       "}\n",
       "#T_5d1f7_row4_col3 {\n",
       "  background-color: #fff5eb;\n",
       "  color: #000000;\n",
       "}\n",
       "#T_5d1f7_row4_col4 {\n",
       "  background-color: #fff5ea;\n",
       "  color: #000000;\n",
       "}\n",
       "#T_5d1f7_row4_col5 {\n",
       "  background-color: #fff3e6;\n",
       "  color: #000000;\n",
       "}\n",
       "</style>\n",
       "<table id=\"T_5d1f7\">\n",
       "  <thead>\n",
       "    <tr>\n",
       "      <th class=\"blank level0\" >&nbsp;</th>\n",
       "      <th id=\"T_5d1f7_level0_col0\" class=\"col_heading level0 col0\" >Semana 3</th>\n",
       "      <th id=\"T_5d1f7_level0_col1\" class=\"col_heading level0 col1\" >Semana 4</th>\n",
       "      <th id=\"T_5d1f7_level0_col2\" class=\"col_heading level0 col2\" >Semana 5</th>\n",
       "      <th id=\"T_5d1f7_level0_col3\" class=\"col_heading level0 col3\" >Semana 6</th>\n",
       "      <th id=\"T_5d1f7_level0_col4\" class=\"col_heading level0 col4\" >Semana 7</th>\n",
       "      <th id=\"T_5d1f7_level0_col5\" class=\"col_heading level0 col5\" >Semana 8</th>\n",
       "      <th id=\"T_5d1f7_level0_col6\" class=\"col_heading level0 col6\" >Promedio Total</th>\n",
       "    </tr>\n",
       "    <tr>\n",
       "      <th class=\"index_name level0\" >Producto_ID</th>\n",
       "      <th class=\"blank col0\" >&nbsp;</th>\n",
       "      <th class=\"blank col1\" >&nbsp;</th>\n",
       "      <th class=\"blank col2\" >&nbsp;</th>\n",
       "      <th class=\"blank col3\" >&nbsp;</th>\n",
       "      <th class=\"blank col4\" >&nbsp;</th>\n",
       "      <th class=\"blank col5\" >&nbsp;</th>\n",
       "      <th class=\"blank col6\" >&nbsp;</th>\n",
       "    </tr>\n",
       "  </thead>\n",
       "  <tbody>\n",
       "    <tr>\n",
       "      <th id=\"T_5d1f7_level0_row0\" class=\"row_heading level0 row0\" >1278</th>\n",
       "      <td id=\"T_5d1f7_row0_col0\" class=\"data row0 col0\" >12.8</td>\n",
       "      <td id=\"T_5d1f7_row0_col1\" class=\"data row0 col1\" >14.6</td>\n",
       "      <td id=\"T_5d1f7_row0_col2\" class=\"data row0 col2\" >16.3</td>\n",
       "      <td id=\"T_5d1f7_row0_col3\" class=\"data row0 col3\" >16.9</td>\n",
       "      <td id=\"T_5d1f7_row0_col4\" class=\"data row0 col4\" >17.4</td>\n",
       "      <td id=\"T_5d1f7_row0_col5\" class=\"data row0 col5\" >17.2</td>\n",
       "      <td id=\"T_5d1f7_row0_col6\" class=\"data row0 col6\" >15.9</td>\n",
       "    </tr>\n",
       "    <tr>\n",
       "      <th id=\"T_5d1f7_level0_row1\" class=\"row_heading level0 row1\" >1284</th>\n",
       "      <td id=\"T_5d1f7_row1_col0\" class=\"data row1 col0\" >10.5</td>\n",
       "      <td id=\"T_5d1f7_row1_col1\" class=\"data row1 col1\" >11.6</td>\n",
       "      <td id=\"T_5d1f7_row1_col2\" class=\"data row1 col2\" >12.7</td>\n",
       "      <td id=\"T_5d1f7_row1_col3\" class=\"data row1 col3\" >13.0</td>\n",
       "      <td id=\"T_5d1f7_row1_col4\" class=\"data row1 col4\" >13.1</td>\n",
       "      <td id=\"T_5d1f7_row1_col5\" class=\"data row1 col5\" >12.7</td>\n",
       "      <td id=\"T_5d1f7_row1_col6\" class=\"data row1 col6\" >12.3</td>\n",
       "    </tr>\n",
       "    <tr>\n",
       "      <th id=\"T_5d1f7_level0_row2\" class=\"row_heading level0 row2\" >1250</th>\n",
       "      <td id=\"T_5d1f7_row2_col0\" class=\"data row2 col0\" >9.7</td>\n",
       "      <td id=\"T_5d1f7_row2_col1\" class=\"data row2 col1\" >10.1</td>\n",
       "      <td id=\"T_5d1f7_row2_col2\" class=\"data row2 col2\" >9.8</td>\n",
       "      <td id=\"T_5d1f7_row2_col3\" class=\"data row2 col3\" >9.5</td>\n",
       "      <td id=\"T_5d1f7_row2_col4\" class=\"data row2 col4\" >9.4</td>\n",
       "      <td id=\"T_5d1f7_row2_col5\" class=\"data row2 col5\" >9.5</td>\n",
       "      <td id=\"T_5d1f7_row2_col6\" class=\"data row2 col6\" >9.7</td>\n",
       "    </tr>\n",
       "    <tr>\n",
       "      <th id=\"T_5d1f7_level0_row3\" class=\"row_heading level0 row3\" >1240</th>\n",
       "      <td id=\"T_5d1f7_row3_col0\" class=\"data row3 col0\" >6.5</td>\n",
       "      <td id=\"T_5d1f7_row3_col1\" class=\"data row3 col1\" >6.9</td>\n",
       "      <td id=\"T_5d1f7_row3_col2\" class=\"data row3 col2\" >6.6</td>\n",
       "      <td id=\"T_5d1f7_row3_col3\" class=\"data row3 col3\" >6.6</td>\n",
       "      <td id=\"T_5d1f7_row3_col4\" class=\"data row3 col4\" >6.4</td>\n",
       "      <td id=\"T_5d1f7_row3_col5\" class=\"data row3 col5\" >6.3</td>\n",
       "      <td id=\"T_5d1f7_row3_col6\" class=\"data row3 col6\" >6.6</td>\n",
       "    </tr>\n",
       "    <tr>\n",
       "      <th id=\"T_5d1f7_level0_row4\" class=\"row_heading level0 row4\" >2233</th>\n",
       "      <td id=\"T_5d1f7_row4_col0\" class=\"data row4 col0\" >6.4</td>\n",
       "      <td id=\"T_5d1f7_row4_col1\" class=\"data row4 col1\" >6.3</td>\n",
       "      <td id=\"T_5d1f7_row4_col2\" class=\"data row4 col2\" >6.1</td>\n",
       "      <td id=\"T_5d1f7_row4_col3\" class=\"data row4 col3\" >5.8</td>\n",
       "      <td id=\"T_5d1f7_row4_col4\" class=\"data row4 col4\" >5.9</td>\n",
       "      <td id=\"T_5d1f7_row4_col5\" class=\"data row4 col5\" >6.1</td>\n",
       "      <td id=\"T_5d1f7_row4_col6\" class=\"data row4 col6\" >6.1</td>\n",
       "    </tr>\n",
       "  </tbody>\n",
       "</table>\n"
      ],
      "text/plain": [
       "<pandas.io.formats.style.Styler at 0x1984cb8d0a0>"
      ]
     },
     "metadata": {},
     "output_type": "display_data"
    }
   ],
   "source": [
    "# Top 5 productos con análisis semanal\n",
    "top_productos_ids = transacciones_por_producto.sort_values(ascending=False).head(5).index\n",
    "# Crear DataFrame para almacenar demanda promedio semanal por producto top\n",
    "demanda_semanal_top_productos = candidate[candidate['Producto_ID'].isin(top_productos_ids)].pivot_table(\n",
    "    index='Producto_ID', \n",
    "    columns='Semana', \n",
    "    values='Demanda_uni_equil', \n",
    "    aggfunc='mean'\n",
    ")\n",
    "\n",
    "# Renombrar columnas para mayor claridad\n",
    "demanda_semanal_top_productos.columns = ['Semana ' + str(col) for col in demanda_semanal_top_productos.columns]\n",
    "# Agregar columna de promedio total\n",
    "demanda_semanal_top_productos['Promedio Total'] = demanda_semanal_top_productos.mean(axis=1)\n",
    "# Ordenar por Promedio Total de mayor a menor\n",
    "demanda_semanal_top_productos = demanda_semanal_top_productos.sort_values('Promedio Total', ascending=False)\n",
    "\n",
    "print(\"\\nTop 5 productos - Demanda promedio semanal:\")\n",
    "display(demanda_semanal_top_productos.style.format('{:.1f}').background_gradient(cmap='Oranges', axis=None))"
   ]
  },
  {
   "cell_type": "markdown",
   "id": "ccf1b1f6",
   "metadata": {},
   "source": [
    "### 3.3 Estadísticas Descriptivas de la Variable Objetivo"
   ]
  },
  {
   "cell_type": "code",
   "execution_count": 8,
   "id": "86129118",
   "metadata": {
    "scrolled": false
   },
   "outputs": [
    {
     "name": "stdout",
     "output_type": "stream",
     "text": [
      "🔍 Análisis rápido de demanda:\n",
      "- Demanda promedio: 7.5 unidades\n",
      "- Máxima demanda: 4732 unidades\n",
      "- 1.5% de registros con demanda cero\n",
      "- El 95% de registros tiene demanda ≤ 23.0\n"
     ]
    }
   ],
   "source": [
    "target_stats = {\n",
    "    'mean': candidate['Demanda_uni_equil'].mean(),\n",
    "    'max': candidate['Demanda_uni_equil'].max(),\n",
    "    'zeros_pct': (candidate['Demanda_uni_equil'] == 0).mean() * 100,\n",
    "    'q95': candidate['Demanda_uni_equil'].quantile(0.95)\n",
    "}\n",
    "\n",
    "print(\"🔍 Análisis rápido de demanda:\")\n",
    "print(f\"- Demanda promedio: {target_stats['mean']:.1f} unidades\")\n",
    "print(f\"- Máxima demanda: {target_stats['max']} unidades\")\n",
    "print(f\"- {target_stats['zeros_pct']:.1f}% de registros con demanda cero\")\n",
    "print(f\"- El 95% de registros tiene demanda ≤ {target_stats['q95']}\")"
   ]
  },
  {
   "cell_type": "markdown",
   "id": "5e3d528a",
   "metadata": {},
   "source": [
    "### 3.4 Visualización de la Distribución\n",
    "Se utiliza un boxplot logarítmico para manejar outliers y visualizar la distribución asimétrica de la demanda."
   ]
  },
  {
   "cell_type": "code",
   "execution_count": 9,
   "id": "fb45e850",
   "metadata": {},
   "outputs": [
    {
     "data": {
      "image/png": "[encoded data removed]",
      "text/plain": [
       "<Figure size 504x288 with 1 Axes>"
      ]
     },
     "metadata": {
      "needs_background": "light"
     },
     "output_type": "display_data"
    }
   ],
   "source": [
    "plt.figure(figsize=(7, 4))\n",
    "sns.boxplot(x=np.log1p(candidate['Demanda_uni_equil']))\n",
    "plt.title('Distribución de Demanda (log scale)')\n",
    "plt.show()"
   ]
  },
  {
   "cell_type": "markdown",
   "id": "5fbe2408",
   "metadata": {},
   "source": [
    "## 4. Análisis de Series Temporales\n",
    "\n",
    "Se identifica y visualiza una combinación frecuente de producto-cliente-agencia para analizar:\n",
    "- Patrón temporal de demanda a lo largo de las 8 semanas\n",
    "- Características específicas del producto Gansito 50g para el cliente GO MART G26 ECLIPSE en la agencia SAN ANTONIO"
   ]
  },
  {
   "cell_type": "code",
   "execution_count": 10,
   "id": "f646b110",
   "metadata": {},
   "outputs": [
    {
     "data": {
      "image/png": "[encoded data removed]",
      "text/plain": [
       "<Figure size 720x288 with 1 Axes>"
      ]
     },
     "metadata": {
      "needs_background": "light"
     },
     "output_type": "display_data"
    },
    {
     "name": "stdout",
     "output_type": "stream",
     "text": [
      "Producto: Gansito 50g MLA 5310 | Cliente: GO MART G26 ECLIPSE | Agencia: 2011 AG. SAN ANTONIO, MÉXICO, D.F.\n"
     ]
    }
   ],
   "source": [
    "combo_frecuente = candidate.groupby([\"Producto_ID\", \"Cliente_ID\", \"Agencia_ID\"])[\"Semana\"].nunique().reset_index()\n",
    "combo_frecuente = combo_frecuente.sort_values(\"Semana\", ascending=False)\n",
    "\n",
    "if not combo_frecuente.empty:\n",
    "    combo = combo_frecuente.iloc[0]\n",
    "    pid, cid, aid = combo[\"Producto_ID\"], combo[\"Cliente_ID\"], combo[\"Agencia_ID\"]\n",
    "    filtro = (candidate[\"Producto_ID\"] == pid) & (candidate[\"Cliente_ID\"] == cid) & (candidate[\"Agencia_ID\"] == aid)\n",
    "    serie = candidate[filtro].groupby(\"Semana\")[\"Demanda_uni_equil\"].sum()\n",
    "\n",
    "    # Primero obtenemos una fila del filtro\n",
    "    fila_filtrada = candidate[filtro].iloc[0]\n",
    "    \n",
    "    # Obtener nombre del producto\n",
    "    nombre_producto = productos.loc[productos['Producto_ID'] == pid, 'NombreProducto'].iloc[0]\n",
    "    \n",
    "    # Obtener nombre del cliente\n",
    "    nombre_cliente = clientes.loc[clientes['Cliente_ID'] == cid, 'NombreCliente'].iloc[0]\n",
    "    \n",
    "    # Obtener ciudad y estado de la agencia\n",
    "    agencia_info = agencias.loc[agencias['Agencia_ID'] == aid, ['Town', 'State']].iloc[0]\n",
    "    nombre_agencia = f\"{agencia_info['Town']}, {agencia_info['State']}\"\n",
    "\n",
    "    plt.figure(figsize=(10, 4))\n",
    "    plt.plot(serie, marker='o')\n",
    "    plt.title(f\"Serie de tiempo - Producto {pid}, Cliente {cid}, Agencia {aid}\")\n",
    "    plt.xlabel(\"Semana\")\n",
    "    plt.ylabel(\"Demanda\")\n",
    "    plt.grid()\n",
    "    plt.show()\n",
    "    \n",
    "    print(f\"Producto: {nombre_producto} | Cliente: {nombre_cliente} | Agencia: {nombre_agencia}\")\n",
    "else:\n",
    "    print(\"No se encontró ninguna combinación con datos suficientes para graficar.\")"
   ]
  },
  {
   "cell_type": "markdown",
   "id": "0e0d30fc",
   "metadata": {},
   "source": [
    "### 5. Elección de Agencia y Definición de Muestra\n",
    "\n",
    "#### 📊 Contexto estadístico\n",
    "- **Media de transacciones**: 194,498\n",
    "- **Desviación estándar**: 190,376\n",
    "- **Rango de interés**: ±1 desviación estándar\n",
    "  - **Límite inferior**: 4,122 transacciones\n",
    "  - **Límite superior**: 384,874 transacciones\n",
    "\n",
    "*Nota*: Se descartan valores extremos fuera de este rango para mantener representatividad.\n",
    "\n",
    "- Selección final de la agencia ID 1113 (AG. LAGO FILT) como representativa\n",
    "\n",
    "#### 📌 Criterios de selección\n",
    "**✅ Para la agencia representativa**:\n",
    "1. **Volumen de transacciones**: Dentro del rango estadístico óptimo (4,122 - 384,874)\n",
    "2. **Distancia a la media**: Selección de la agencia con volumen más cercano a la media (194,498)\n",
    "3. **Presencia de productos clave**: Debe contener transacciones de los productos más demandados (IDs 1278, 1284 y 1250)\n",
    "\n",
    "**✅ Para clientes relevantes**:\n",
    "- Top 100 clientes por demanda ajustada (`Demanda_uni_equil`)\n",
    "- Priorización de aquellos que transaccionan con productos clave\n",
    "\n",
    "\n",
    "\n"
   ]
  },
  {
   "cell_type": "code",
   "execution_count": 64,
   "id": "d4d8e3de",
   "metadata": {},
   "outputs": [
    {
     "data": {
      "text/html": [
       "<div>\n",
       "<style scoped>\n",
       "    .dataframe tbody tr th:only-of-type {\n",
       "        vertical-align: middle;\n",
       "    }\n",
       "\n",
       "    .dataframe tbody tr th {\n",
       "        vertical-align: top;\n",
       "    }\n",
       "\n",
       "    .dataframe thead th {\n",
       "        text-align: right;\n",
       "    }\n",
       "</style>\n",
       "<table border=\"1\" class=\"dataframe\">\n",
       "  <thead>\n",
       "    <tr style=\"text-align: right;\">\n",
       "      <th></th>\n",
       "      <th>ID</th>\n",
       "      <th>agencia</th>\n",
       "      <th>total_transacciones</th>\n",
       "      <th>demanda_promedio</th>\n",
       "      <th>ventas_totales</th>\n",
       "      <th>devoluciones_totales</th>\n",
       "      <th>transacciones_productos_clave</th>\n",
       "      <th>distancia_a_media</th>\n",
       "    </tr>\n",
       "  </thead>\n",
       "  <tbody>\n",
       "    <tr>\n",
       "      <th>0</th>\n",
       "      <td>1113</td>\n",
       "      <td>2008 AG. LAGO FILT</td>\n",
       "      <td>173302</td>\n",
       "      <td>7.1</td>\n",
       "      <td>1231190</td>\n",
       "      <td>10293</td>\n",
       "      <td>12167</td>\n",
       "      <td>21196</td>\n",
       "    </tr>\n",
       "  </tbody>\n",
       "</table>\n",
       "</div>"
      ],
      "text/plain": [
       "     ID             agencia  total_transacciones  demanda_promedio  \\\n",
       "0  1113  2008 AG. LAGO FILT               173302               7.1   \n",
       "\n",
       "   ventas_totales  devoluciones_totales  transacciones_productos_clave  \\\n",
       "0         1231190                 10293                          12167   \n",
       "\n",
       "   distancia_a_media  \n",
       "0              21196  "
      ]
     },
     "metadata": {},
     "output_type": "display_data"
    }
   ],
   "source": [
    "query_agencia_representativa = \"\"\"\n",
    "WITH resumen_agencias AS (\n",
    "    SELECT \n",
    "        a.Agencia_ID as ID,\n",
    "        a.Town AS agencia,\n",
    "        COUNT(*) AS total_transacciones,\n",
    "        AVG(v.Demanda_uni_equil) AS demanda_promedio,\n",
    "        SUM(v.Venta_uni_hoy) AS ventas_totales,\n",
    "        SUM(v.Dev_uni_proxima) AS devoluciones_totales,\n",
    "        SUM(CASE WHEN v.Producto_ID IN (1278, 1284, 1250) THEN 1 ELSE 0 END) AS transacciones_productos_clave\n",
    "    FROM \n",
    "        candidate v\n",
    "    JOIN \n",
    "        agencias a ON v.Agencia_ID = a.Agencia_ID\n",
    "    GROUP BY \n",
    "        a.Town, a.Agencia_ID\n",
    "    HAVING\n",
    "        SUM(CASE WHEN v.Producto_ID IN (1278, 1284, 1250) THEN 1 ELSE 0 END) > 0\n",
    "),\n",
    "filtradas AS (\n",
    "    SELECT *,\n",
    "           ABS(total_transacciones - 194498) AS distancia_a_media\n",
    "    FROM resumen_agencias\n",
    "    WHERE total_transacciones BETWEEN 4000 AND 385000\n",
    ")\n",
    "SELECT *\n",
    "FROM filtradas\n",
    "ORDER BY distancia_a_media ASC, transacciones_productos_clave DESC\n",
    "LIMIT 1;\n",
    "\"\"\"\n",
    "\n",
    "agencia_representativa = pd.read_sql(query_agencia_representativa, conn)\n",
    "display(agencia_representativa)\n"
   ]
  },
  {
   "cell_type": "code",
   "execution_count": 83,
   "id": "eaaa3b85",
   "metadata": {
    "scrolled": true
   },
   "outputs": [
    {
     "data": {
      "text/html": [
       "<div>\n",
       "<style scoped>\n",
       "    .dataframe tbody tr th:only-of-type {\n",
       "        vertical-align: middle;\n",
       "    }\n",
       "\n",
       "    .dataframe tbody tr th {\n",
       "        vertical-align: top;\n",
       "    }\n",
       "\n",
       "    .dataframe thead th {\n",
       "        text-align: right;\n",
       "    }\n",
       "</style>\n",
       "<table border=\"1\" class=\"dataframe\">\n",
       "  <thead>\n",
       "    <tr style=\"text-align: right;\">\n",
       "      <th></th>\n",
       "      <th>Cliente_ID</th>\n",
       "      <th>NombreCliente</th>\n",
       "      <th>demanda_total</th>\n",
       "    </tr>\n",
       "  </thead>\n",
       "  <tbody>\n",
       "    <tr>\n",
       "      <th>0</th>\n",
       "      <td>321672</td>\n",
       "      <td>CASA CASTILLO</td>\n",
       "      <td>9691</td>\n",
       "    </tr>\n",
       "    <tr>\n",
       "      <th>1</th>\n",
       "      <td>4203212</td>\n",
       "      <td>NO IDENTIFICADO</td>\n",
       "      <td>7550</td>\n",
       "    </tr>\n",
       "    <tr>\n",
       "      <th>2</th>\n",
       "      <td>23745</td>\n",
       "      <td>TOLEDO</td>\n",
       "      <td>7254</td>\n",
       "    </tr>\n",
       "    <tr>\n",
       "      <th>3</th>\n",
       "      <td>317338</td>\n",
       "      <td>MARCAS EXCLUSIVAS</td>\n",
       "      <td>7244</td>\n",
       "    </tr>\n",
       "    <tr>\n",
       "      <th>4</th>\n",
       "      <td>1321451</td>\n",
       "      <td>ESTRELLA</td>\n",
       "      <td>6888</td>\n",
       "    </tr>\n",
       "    <tr>\n",
       "      <th>...</th>\n",
       "      <td>...</td>\n",
       "      <td>...</td>\n",
       "      <td>...</td>\n",
       "    </tr>\n",
       "    <tr>\n",
       "      <th>95</th>\n",
       "      <td>2291435</td>\n",
       "      <td>SUPER PUNTO MARIANO ESCOBEDO</td>\n",
       "      <td>2739</td>\n",
       "    </tr>\n",
       "    <tr>\n",
       "      <th>96</th>\n",
       "      <td>74681</td>\n",
       "      <td>CASA RODRIGUEZ</td>\n",
       "      <td>2737</td>\n",
       "    </tr>\n",
       "    <tr>\n",
       "      <th>97</th>\n",
       "      <td>17257</td>\n",
       "      <td>LUCERITO</td>\n",
       "      <td>2735</td>\n",
       "    </tr>\n",
       "    <tr>\n",
       "      <th>98</th>\n",
       "      <td>17217</td>\n",
       "      <td>GAVIOTAS</td>\n",
       "      <td>2729</td>\n",
       "    </tr>\n",
       "    <tr>\n",
       "      <th>99</th>\n",
       "      <td>73818</td>\n",
       "      <td>ROSY</td>\n",
       "      <td>2727</td>\n",
       "    </tr>\n",
       "  </tbody>\n",
       "</table>\n",
       "<p>100 rows × 3 columns</p>\n",
       "</div>"
      ],
      "text/plain": [
       "    Cliente_ID                 NombreCliente  demanda_total\n",
       "0       321672                 CASA CASTILLO           9691\n",
       "1      4203212               NO IDENTIFICADO           7550\n",
       "2        23745                        TOLEDO           7254\n",
       "3       317338             MARCAS EXCLUSIVAS           7244\n",
       "4      1321451                      ESTRELLA           6888\n",
       "..         ...                           ...            ...\n",
       "95     2291435  SUPER PUNTO MARIANO ESCOBEDO           2739\n",
       "96       74681                CASA RODRIGUEZ           2737\n",
       "97       17257                      LUCERITO           2735\n",
       "98       17217                      GAVIOTAS           2729\n",
       "99       73818                          ROSY           2727\n",
       "\n",
       "[100 rows x 3 columns]"
      ]
     },
     "metadata": {},
     "output_type": "display_data"
    }
   ],
   "source": [
    "agencia_id = agencia_representativa['ID'].values[0]\n",
    "\n",
    "query_top_clientes = f\"\"\"\n",
    "SELECT \n",
    "    c.Cliente_ID,\n",
    "    cl.NombreCliente,\n",
    "    SUM(c.Demanda_uni_equil) AS demanda_total\n",
    "FROM \n",
    "    candidate c\n",
    "JOIN \n",
    "    clientes cl ON c.Cliente_ID = cl.Cliente_ID\n",
    "WHERE \n",
    "    c.Agencia_ID = {agencia_id}\n",
    "GROUP BY \n",
    "    c.Cliente_ID, cl.NombreCliente\n",
    "ORDER BY \n",
    "    demanda_total DESC\n",
    "LIMIT 100;\n",
    "\"\"\"\n",
    "\n",
    "muestra = pd.read_sql(query_top_clientes, conn)\n",
    "display(muestra)"
   ]
  },
  {
   "cell_type": "markdown",
   "id": "fff36f4d",
   "metadata": {},
   "source": [
    "#### 🧠 Metodología aplicada\n",
    "\n",
    "**1. Filtrado de agencias**:\n",
    "\n",
    "Código optimizado que considera:\n",
    "- 1. Rango estadístico\n",
    "- 2. Distancia a la media \n",
    "- 3. Presencia de productos clave (1278, 1284, 1250)\n",
    "\n",
    "Esto permite construir una muestra representativa de los clientes más activos e influyentes de la agencia en términos logísticos y de consumo.\n",
    "\n",
    " **2. Selección de clientes**\n",
    "\n",
    "**Extracción de observaciones** de la agencia seleccionada (`Agencia_ID = {agencia_id}`)\n",
    "\n",
    "**Agrupamiento por `Cliente_ID`** con cálculo de:\n",
    "- Suma total de demanda ajustada\n",
    "- Conteo de transacciones con productos clave\n",
    "\n",
    "**JOIN** con tabla `clientes` para enriquecer los datos\n",
    "\n",
    "**Ordenamiento** por:\n",
    "1. Demanda total (descendente)\n",
    "2. Transacciones con productos clave (descendente)\n"
   ]
  },
  {
   "cell_type": "markdown",
   "id": "32fd9b90",
   "metadata": {},
   "source": [
    "## 6. Identificación de Top Clientes y Productos\n",
    "\n",
    "Análisis de los clientes más relevantes:\n",
    "- Selección de top 100 clientes por demanda ajustada\n",
    "- Priorización de clientes que transaccionan con productos clave\n",
    "- Identificación de los 3 productos más importantes por demanda total:\n",
    "  1. Gansito 1p 50g (ID: 43285)\n",
    "  2. Donas Azucar 4p 105g (ID: 1250)\n",
    "  3. Nito 1p 62g (ID: 1278)"
   ]
  },
  {
   "cell_type": "code",
   "execution_count": 94,
   "id": "051983e6",
   "metadata": {},
   "outputs": [
    {
     "data": {
      "text/html": [
       "<div>\n",
       "<style scoped>\n",
       "    .dataframe tbody tr th:only-of-type {\n",
       "        vertical-align: middle;\n",
       "    }\n",
       "\n",
       "    .dataframe tbody tr th {\n",
       "        vertical-align: top;\n",
       "    }\n",
       "\n",
       "    .dataframe thead th {\n",
       "        text-align: right;\n",
       "    }\n",
       "</style>\n",
       "<table border=\"1\" class=\"dataframe\">\n",
       "  <thead>\n",
       "    <tr style=\"text-align: right;\">\n",
       "      <th></th>\n",
       "      <th>Producto_ID</th>\n",
       "      <th>NombreProducto</th>\n",
       "      <th>demanda_total</th>\n",
       "    </tr>\n",
       "  </thead>\n",
       "  <tbody>\n",
       "    <tr>\n",
       "      <th>0</th>\n",
       "      <td>43285</td>\n",
       "      <td>Gansito 1p 50g MTB MLA 43285</td>\n",
       "      <td>75537</td>\n",
       "    </tr>\n",
       "    <tr>\n",
       "      <th>1</th>\n",
       "      <td>1250</td>\n",
       "      <td>Donas Azucar 4p 105g BIM 1250</td>\n",
       "      <td>67647</td>\n",
       "    </tr>\n",
       "    <tr>\n",
       "      <th>2</th>\n",
       "      <td>1278</td>\n",
       "      <td>Nito 1p 62g BIM 1278</td>\n",
       "      <td>65466</td>\n",
       "    </tr>\n",
       "  </tbody>\n",
       "</table>\n",
       "</div>"
      ],
      "text/plain": [
       "   Producto_ID                 NombreProducto  demanda_total\n",
       "0        43285   Gansito 1p 50g MTB MLA 43285          75537\n",
       "1         1250  Donas Azucar 4p 105g BIM 1250          67647\n",
       "2         1278           Nito 1p 62g BIM 1278          65466"
      ]
     },
     "metadata": {},
     "output_type": "display_data"
    }
   ],
   "source": [
    "ids_top_clientes = tuple(muestra[\"Cliente_ID\"].tolist())\n",
    "\n",
    "query_top_productos = f\"\"\"\n",
    "SELECT \n",
    "    p.Producto_ID,\n",
    "    pr.NombreProducto,\n",
    "    SUM(p.Demanda_uni_equil) AS demanda_total\n",
    "FROM \n",
    "    candidate p\n",
    "JOIN \n",
    "    productos pr ON p.Producto_ID = pr.Producto_ID\n",
    "WHERE \n",
    "    p.Agencia_ID = {agencia_id}\n",
    "    AND p.Cliente_ID IN {ids_top_clientes}\n",
    "GROUP BY \n",
    "    p.Producto_ID, pr.NombreProducto\n",
    "ORDER BY \n",
    "    demanda_total DESC\n",
    "LIMIT 3;\n",
    "\"\"\"\n",
    "\n",
    "muestra_top = pd.read_sql(query_top_productos, conn)\n",
    "display(muestra_top)\n"
   ]
  },
  {
   "cell_type": "markdown",
   "id": "af0dd12c",
   "metadata": {},
   "source": [
    "## 7. Feature Engineering\n",
    "\n",
    "Preparación de variables para el modelo:\n",
    "- Selección de features base: Semana, Agencia_ID, Canal_ID, Ruta_SAK, Cliente_ID, Producto_ID\n",
    "- Creación de features agregados mediante transformaciones\n",
    "- Aplicación de logaritmo a la variable objetivo para normalizar su distribución\n",
    "- Limitación de valores extremos mediante clipping"
   ]
  },
  {
   "cell_type": "code",
   "execution_count": 91,
   "id": "8a88c93a",
   "metadata": {},
   "outputs": [
    {
     "data": {
      "text/plain": [
       "LGBMRegressor(bagging_fraction=0.8, bagging_freq=5, feature_fraction=0.8,\n",
       "              lambda_l1=1.0, lambda_l2=1.0, learning_rate=0.03, max_depth=7,\n",
       "              metric='mae', num_leaves=64, objective='regression',\n",
       "              verbosity=-1)"
      ]
     },
     "execution_count": 91,
     "metadata": {},
     "output_type": "execute_result"
    }
   ],
   "source": [
    "# 1. Features y target\n",
    "\n",
    "df_muestra = candidate[candidate['Agencia_ID'] == 1113]\n",
    "\n",
    "df_muestra = df_muestra.copy()\n",
    "df_muestra.loc[:, 'Demanda_uni_equil'] = df_muestra['Demanda_uni_equil'].clip(upper=demand_p95)\n",
    "df_muestra.loc[:, 'Demanda_log'] = np.log1p(df_muestra['Demanda_uni_equil'])\n",
    "\n",
    "\n",
    "features = [\n",
    "    'Semana', 'Agencia_ID', 'Canal_ID', 'Ruta_SAK', 'Cliente_ID', 'Producto_ID'\n",
    "]\n",
    "\n",
    "# Features agregados (transform)\n",
    "for col in ['Producto_ID', 'Cliente_ID', 'Canal_ID', 'Ruta_SAK']:\n",
    "    df_muestra[f'{col}_mean'] = df_muestra.groupby(col)['Demanda_uni_equil'].transform('mean')\n",
    "\n",
    "features += [f'{col}_mean' for col in ['Producto_ID', 'Cliente_ID', 'Canal_ID', 'Ruta_SAK']]\n",
    "\n"
   ]
  },
  {
   "cell_type": "markdown",
   "id": "957c5119",
   "metadata": {},
   "source": [
    "## 8. Modelado y Evaluación"
   ]
  },
  {
   "cell_type": "markdown",
   "id": "9d6fc6fb",
   "metadata": {},
   "source": [
    "### 8.1 Configuración y Entrenamiento\n",
    "\n",
    "- Split temporal: datos de semanas 3-8 para entrenamiento, semana 9 para validación\n",
    "- Configuración de hiperparámetros de LightGBM\n",
    "- Entrenamiento del modelo con validación"
   ]
  },
  {
   "cell_type": "code",
   "execution_count": null,
   "id": "22e6ed63",
   "metadata": {},
   "outputs": [],
   "source": [
    "# 2. Entrenamiento\n",
    "# Split temporal (semana 8 como validation)\n",
    "X_train = df_muestra[df_muestra['Semana'] < 8][features]\n",
    "y_train = df_muestra[df_muestra['Semana'] < 8]['Demanda_log']\n",
    "X_val = df_muestra[df_muestra['Semana'] == 8][features]\n",
    "y_val = df_muestra[df_muestra['Semana'] == 8]['Demanda_log']\n",
    "\n",
    "\n",
    "# Configuración LightGBM\n",
    "params = {\n",
    "    'objective': 'regression',\n",
    "    'metric': 'mae',\n",
    "    'boosting_type': 'gbdt',\n",
    "    'num_leaves': 64,\n",
    "    'max_depth': 7,\n",
    "    'learning_rate': 0.03,\n",
    "    'feature_fraction': 0.8,\n",
    "    'bagging_fraction': 0.8,\n",
    "    'bagging_freq': 5,\n",
    "    'lambda_l1': 1.0,\n",
    "    'lambda_l2': 1.0,\n",
    "    'verbosity': -1\n",
    "}\n",
    "\n",
    "\n",
    "# Entrenamiento\n",
    "model = lgb.LGBMRegressor(**params)\n",
    "model.fit(X_train, y_train,\n",
    "          eval_set=[(X_val, y_val)])"
   ]
  },
  {
   "cell_type": "markdown",
   "id": "3073041c",
   "metadata": {},
   "source": [
    "### 8.2 Evaluación de Resultados\n",
    "\n",
    "#### Justificación de las Métricas de Evaluación\n",
    "\n",
    "Las métricas obtenidas (`RMSE: 3.74`, `MAE: 2.54`, `R²: 0.56`) indican un rendimiento satisfactorio del modelo de predicción, considerando la naturaleza del problema y las características de los datos:\n",
    "\n",
    "- **MAE de 2.54 unidades**: Representa un error promedio aceptable para el contexto de demanda minorista, donde la demanda media es de 7.5 unidades. Este nivel de error permite una planificación logística eficiente.\n",
    "- **R² de 0.56**: Muestra que el modelo explica más de la mitad de la variabilidad en la demanda, un resultado favorable considerando la complejidad del comportamiento de compra y la presencia de factores externos no capturados en los datos.\n",
    "- **Validación práctica**: Las predicciones mantienen la misma jerarquía de productos principales (`43285`, `1250`, `1278`) que se observa en los datos históricos, demostrando que el modelo captura correctamente los patrones de consumo predominantes.\n",
    "\n",
    "Esta combinación de métricas estadísticas y validación práctica confirma la utilidad del modelo para la planificación de inventario y distribución en el contexto **S&OP**.\n"
   ]
  },
  {
   "cell_type": "code",
   "execution_count": 92,
   "id": "87b04cf1",
   "metadata": {},
   "outputs": [
    {
     "name": "stdout",
     "output_type": "stream",
     "text": [
      "RMSE: 3.7446316695405386\n",
      "MAE: 2.5388635532317343\n",
      "R2: 0.5583588875987517\n"
     ]
    }
   ],
   "source": [
    "y_pred = model.predict(X_val)\n",
    "y_val_true = np.expm1(y_val)\n",
    "y_val_pred = np.expm1(y_pred)\n",
    "print(\"RMSE:\", mean_squared_error(y_val_true, y_val_pred, squared=False))\n",
    "print(\"MAE:\", mean_absolute_error(y_val_true, y_val_pred))\n",
    "print(\"R2:\", r2_score(y_val_true, y_val_pred))"
   ]
  },
  {
   "cell_type": "markdown",
   "id": "b2950449",
   "metadata": {},
   "source": [
    "### 8.3 Predicción y Post-procesamiento\n",
    "- Filtrado de datos de prueba para la agencia y clientes seleccionados\n",
    "- Replicación de features con medias históricas\n",
    "- Predicción y transformación inversa del logaritmo\n",
    "- Ajuste de predicciones dentro de rangos realistas\n",
    "- Comparación de productos con mayor demanda predicha vs. histórica"
   ]
  },
  {
   "cell_type": "code",
   "execution_count": 99,
   "id": "28836c36",
   "metadata": {},
   "outputs": [],
   "source": [
    "# Filtramos dftest para la agencia y clientes seleccionados\n",
    "dftest_filtrado = test[\n",
    "    (test['Agencia_ID'] == 1113) &\n",
    "    (test['Cliente_ID'].isin(ids_top_clientes))\n",
    "].copy()"
   ]
  },
  {
   "cell_type": "code",
   "execution_count": 100,
   "id": "3215d63d",
   "metadata": {},
   "outputs": [],
   "source": [
    "# Replicamos features (usando medias del histórico)\n",
    "for col in ['Producto_ID', 'Cliente_ID', 'Canal_ID', 'Ruta_SAK']:\n",
    "    mean_values = df_muestra.groupby(col)['Demanda_uni_equil'].mean()\n",
    "    dftest_filtrado[f'{col}_mean'] = dftest_filtrado[col].map(mean_values).fillna(df_muestra['Demanda_uni_equil'].mean())"
   ]
  },
  {
   "cell_type": "code",
   "execution_count": 102,
   "id": "d7a4805b",
   "metadata": {},
   "outputs": [],
   "source": [
    "# Predicción\n",
    "dftest_filtrado['Demanda_pred_log'] = model.predict(dftest_filtrado[features])\n",
    "dftest_filtrado['Demanda_pred'] = np.expm1(dftest_filtrado['Demanda_pred_log'])"
   ]
  },
  {
   "cell_type": "code",
   "execution_count": 103,
   "id": "d8b43ca9",
   "metadata": {},
   "outputs": [],
   "source": [
    "# Aseguramos demanda no negativa y dentro de rangos realistas\n",
    "max_demand = df_muestra['Demanda_uni_equil'].max()\n",
    "dftest_filtrado['Demanda_pred'] = dftest_filtrado['Demanda_pred'].clip(lower=0, upper=max_demand)"
   ]
  },
  {
   "cell_type": "code",
   "execution_count": 111,
   "id": "81f05270",
   "metadata": {},
   "outputs": [
    {
     "name": "stdout",
     "output_type": "stream",
     "text": [
      "Top 3 productos con mayor demanda acumulada predicha en semana 9:\n",
      "Producto_ID\n",
      "43285   8270.8\n",
      "1250    7665.6\n",
      "1278    6906.0\n",
      "Name: Demanda_pred, dtype: float64\n"
     ]
    }
   ],
   "source": [
    "top3_pred_acumulado = (\n",
    "    dftest_filtrado\n",
    "    .groupby('Producto_ID')['Demanda_pred']\n",
    "    .sum()\n",
    "    .sort_values(ascending=False)\n",
    "    .head(3)\n",
    ")\n",
    "\n",
    "print(\"Top 3 productos con mayor demanda acumulada predicha en semana 9:\")\n",
    "print(top3_pred_acumulado)\n"
   ]
  },
  {
   "cell_type": "code",
   "execution_count": 108,
   "id": "c7019a9a",
   "metadata": {
    "scrolled": true
   },
   "outputs": [
    {
     "name": "stdout",
     "output_type": "stream",
     "text": [
      "Top 3 productos históricos:\n",
      " 1250     4550\n",
      "43285    4300\n",
      "1278     4058\n",
      "Name: Producto_ID, dtype: int64\n"
     ]
    }
   ],
   "source": [
    "print(\"Top 3 productos históricos:\\n\", df_muestra['Producto_ID'].value_counts().nlargest(3))"
   ]
  },
  {
   "cell_type": "code",
   "execution_count": 109,
   "id": "b70330ef",
   "metadata": {
    "scrolled": true
   },
   "outputs": [
    {
     "data": {
      "text/plain": [
       "count   30654.0\n",
       "mean        5.2\n",
       "std         3.5\n",
       "min         0.9\n",
       "25%         2.8\n",
       "50%         4.1\n",
       "75%         6.6\n",
       "max        20.8\n",
       "Name: Demanda_pred, dtype: float64"
      ]
     },
     "execution_count": 109,
     "metadata": {},
     "output_type": "execute_result"
    }
   ],
   "source": [
    "dftest_filtrado['Demanda_pred'].describe()"
   ]
  },
  {
   "cell_type": "code",
   "execution_count": 120,
   "id": "19c9a23c",
   "metadata": {},
   "outputs": [
    {
     "data": {
      "text/plain": [
       "count   173302.0\n",
       "mean         6.3\n",
       "std          5.7\n",
       "min          0.0\n",
       "25%          2.0\n",
       "50%          4.0\n",
       "75%          8.0\n",
       "max         22.0\n",
       "Name: Demanda_uni_equil, dtype: float64"
      ]
     },
     "execution_count": 120,
     "metadata": {},
     "output_type": "execute_result"
    }
   ],
   "source": [
    "df_muestra['Demanda_uni_equil'].describe()"
   ]
  },
  {
   "cell_type": "code",
   "execution_count": 128,
   "id": "419e4f1d",
   "metadata": {},
   "outputs": [
    {
     "data": {
      "text/plain": [
       "Producto_ID\n",
       "43285   9644.0\n",
       "1250    8993.0\n",
       "1278    8209.0\n",
       "35651   7364.0\n",
       "37058   6714.0\n",
       "1284    6672.0\n",
       "35305   6010.0\n",
       "35309   5556.0\n",
       "1125    4765.0\n",
       "1240    4741.0\n",
       "Name: Demanda_uni_equil, dtype: float64"
      ]
     },
     "execution_count": 128,
     "metadata": {},
     "output_type": "execute_result"
    }
   ],
   "source": [
    "df_muestra[df_muestra['Semana'] == 8].groupby('Producto_ID')['Demanda_uni_equil'].sum().sort_values(ascending=False).head(10)"
   ]
  },
  {
   "cell_type": "markdown",
   "id": "b852fa42",
   "metadata": {},
   "source": [
    "*El modelo final predice correctamente los productos que tendrán mayor demanda en la semana 9, manteniendo coherencia con los patrones históricos observados.*\n",
    "\n",
    "Resultados:\n",
    "\n",
    "    Top 3 productos predichos:\n",
    "\n",
    "        - Gansito 1p 50g MTB MLA 43285 - 8,270.8 unidades\n",
    "\n",
    "        - Donas Azucar 4p 105g BIM 1250 - 7,665.6 unidades\n",
    "\n",
    "        - Nito 1p 62g BIM 1278 - 6,906.0 unidades\n",
    "\n",
    "Validación cruzada:\n",
    "\n",
    "    - Coincidencia con productos históricamente más demandados\n",
    "\n",
    "    - Distribución de predicciones similar a datos históricos"
   ]
  },
  {
   "cell_type": "markdown",
   "id": "1de35108",
   "metadata": {},
   "source": [
    "## 📊 **Diagrama de Flujo: Modelado Predictivo de Ventas**  \n",
    "*Desde datos históricos hasta predicción de demanda con LightGBM*"
   ]
  },
  {
   "cell_type": "markdown",
   "id": "aafc58a1",
   "metadata": {},
   "source": [
    "[![](https://mermaid.ink/img/pako:eNptVUty2zgQvQqKa1klkvo4XKTKJiWZnrgmY7m8COQFREIUMiDAAkBPHJcPk-UsskluMLrYNAlQEpVowQKg193v9Qd49TKZUy_ytlz-k-2IMughWQsEvyucCpYxGaGEGKnRjmmz_6lYBuucomcqDNHrtbhEmpZEEP2ELi7eo2scS7FlRa1IxvY_BWq9EP5kvV5bkI_TspLKOAz442yjqNp_Bz89ZIBjogrSQPKWR7x67CNCHCt6dGTIhhONVn99YIY6pMP7rUGMr8T-G2eaaTT_UnGpwK9isvMaWJTbhac7-43tkX_iB-JeFVSA0I6-AwV90Ecl8zoDGX1UiOfakHz_XRuWkRb5SBQDJRT9uflMDXuWfYsxfmS6Jpx9PSpPoEKKber2oKc8tsoTvKKcZgcDRxnd00pR3RQUApEukM2D64Y47O3Gpzv7TeyRjxO6ZU3NXRBFRCERPerrlCSOVIAXjBtFcomgJVCmoG5QjjYL-sC3M3KswlMpEI_wU0FpgnzfD3s5SKyCOU5zUMq2kOgDxwdZoZgzOKcavfxSpbm19M_SZ8DKH41Q5iw7tNU1D34XqbEJUXUWwBlabQu8oMTUiqK5KJigkAxROODCIs6ZbK2BRhuiu55fWBqLoD8eBygpFC0g6R2HhYse4gcomd5KVTorLgsCk2lKENKOfteast-azo_N8xLfwc3Cm6pmUqAPrNiZ5fWdgy4tBnRUnBlkaHMb2Bq2U97BrIZlcH6pAG7HKqoqIPatpEYdTayMJYyUMIoKUjbFkWDBUdkw6rNdWrY3eP5MeH30fk91zc1Jem4szscxjHNW88YjKvf_wsRl7T14f7eaRygczsYDdHcFy2A4geX9fz8iNBpOpr2wN1ZYij8qmjNXSGg8qc0FNEdGtePtrFIL94-jcrgPYVGpmm66uU2d6wDDWPPT3utK3wFtptLwlET3n01LOv6lGZh4pkoTIEs-1_rshk3tvXCLj-lDi2Y4D0FvLcDvCW-0NG9IThAUlLgHBb3rbKyi26YLygZgrZq2ys-fps7EavsD8iXgAeuctzF3pL1nuhl88gZeSUEfy-EdfG3s157Z0ZKuvQiWOVF_r721eAMcqY1cvYjMiwykfOApWRc7L9oSrmFXV0CHJgwmi5QdpCLik5SnWy969b540cV4OhsG48uZfxlMffjOJgPvBc6D6bvRMAyDUegHk7eB97U1vxxO4a4Zz6bjyXgU-LNg4BWqoeyYUJFTFctaGC-avP0P-2qIWg?type=png)](https://mermaid.live/edit#pako:eNptVUty2zgQvQqKa1klkvo4XKTKJiWZnrgmY7m8COQFREIUMiDAAkBPHJcPk-UsskluMLrYNAlQEpVowQKg193v9Qd49TKZUy_ytlz-k-2IMughWQsEvyucCpYxGaGEGKnRjmmz_6lYBuucomcqDNHrtbhEmpZEEP2ELi7eo2scS7FlRa1IxvY_BWq9EP5kvV5bkI_TspLKOAz442yjqNp_Bz89ZIBjogrSQPKWR7x67CNCHCt6dGTIhhONVn99YIY6pMP7rUGMr8T-G2eaaTT_UnGpwK9isvMaWJTbhac7-43tkX_iB-JeFVSA0I6-AwV90Ecl8zoDGX1UiOfakHz_XRuWkRb5SBQDJRT9uflMDXuWfYsxfmS6Jpx9PSpPoEKKber2oKc8tsoTvKKcZgcDRxnd00pR3RQUApEukM2D64Y47O3Gpzv7TeyRjxO6ZU3NXRBFRCERPerrlCSOVIAXjBtFcomgJVCmoG5QjjYL-sC3M3KswlMpEI_wU0FpgnzfD3s5SKyCOU5zUMq2kOgDxwdZoZgzOKcavfxSpbm19M_SZ8DKH41Q5iw7tNU1D34XqbEJUXUWwBlabQu8oMTUiqK5KJigkAxROODCIs6ZbK2BRhuiu55fWBqLoD8eBygpFC0g6R2HhYse4gcomd5KVTorLgsCk2lKENKOfteast-azo_N8xLfwc3Cm6pmUqAPrNiZ5fWdgy4tBnRUnBlkaHMb2Bq2U97BrIZlcH6pAG7HKqoqIPatpEYdTayMJYyUMIoKUjbFkWDBUdkw6rNdWrY3eP5MeH30fk91zc1Jem4szscxjHNW88YjKvf_wsRl7T14f7eaRygczsYDdHcFy2A4geX9fz8iNBpOpr2wN1ZYij8qmjNXSGg8qc0FNEdGtePtrFIL94-jcrgPYVGpmm66uU2d6wDDWPPT3utK3wFtptLwlET3n01LOv6lGZh4pkoTIEs-1_rshk3tvXCLj-lDi2Y4D0FvLcDvCW-0NG9IThAUlLgHBb3rbKyi26YLygZgrZq2ys-fps7EavsD8iXgAeuctzF3pL1nuhl88gZeSUEfy-EdfG3s157Z0ZKuvQiWOVF_r721eAMcqY1cvYjMiwykfOApWRc7L9oSrmFXV0CHJgwmi5QdpCLik5SnWy969b540cV4OhsG48uZfxlMffjOJgPvBc6D6bvRMAyDUegHk7eB97U1vxxO4a4Zz6bjyXgU-LNg4BWqoeyYUJFTFctaGC-avP0P-2qIWg)"
   ]
  }
 ],
 "metadata": {
  "kernelspec": {
   "display_name": "Python 3 (ipykernel)",
   "language": "python",
   "name": "python3"
  },
  "language_info": {
   "codemirror_mode": {
    "name": "ipython",
    "version": 3
   },
   "file_extension": ".py",
   "mimetype": "text/x-python",
   "name": "python",
   "nbconvert_exporter": "python",
   "pygments_lexer": "ipython3",
   "version": "3.9.12"
  }
 },
 "nbformat": 4,
 "nbformat_minor": 5
}
